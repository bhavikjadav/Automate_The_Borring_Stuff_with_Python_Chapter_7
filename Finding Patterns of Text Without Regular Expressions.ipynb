{
 "cells": [
  {
   "cell_type": "markdown",
   "metadata": {},
   "source": [
    "# Finding Patterns of Text Without Regular Expressions"
   ]
  },
  {
   "cell_type": "code",
   "execution_count": 5,
   "metadata": {},
   "outputs": [
    {
     "name": "stdout",
     "output_type": "stream",
     "text": [
      "415-555-4242 is a phone number ? \n",
      "True\n",
      "Bhavik Jadav is a phone number ?\n",
      "False\n"
     ]
    }
   ],
   "source": [
    "# isPhoneNumber.py\n",
    "\n",
    "def isPhoneNumber(text):\n",
    "    if len(text) != 12:\n",
    "        return False\n",
    "    for i in range(0, 3):\n",
    "        if not text[i].isdecimal():\n",
    "            return False\n",
    "    if text[3] != \"-\":\n",
    "        return False\n",
    "    for i in range(4, 7):\n",
    "        if not text[i].isdecimal():\n",
    "            return False\n",
    "    if text[7] != \"-\":\n",
    "        return False\n",
    "    for i in range(8, 12):\n",
    "        if not text[i].isdecimal():\n",
    "            return False\n",
    "    return True\n",
    "\n",
    "print(\"415-555-4242 is a phone number ? \")\n",
    "print(isPhoneNumber('415-555-4242'))\n",
    "\n",
    "print(\"Bhavik Jadav is a phone number ?\")\n",
    "print(isPhoneNumber('Bhavik Jadav'))"
   ]
  },
  {
   "cell_type": "code",
   "execution_count": 9,
   "metadata": {},
   "outputs": [
    {
     "name": "stdout",
     "output_type": "stream",
     "text": [
      "Phone Number Found : 111-888-9696\n",
      "Phone Number Found : 123-456-7891\n",
      "Done\n"
     ]
    }
   ],
   "source": [
    "# Finding phone number from a string.\n",
    "\n",
    "message = 'Oh, my phone number is 111-888-9696 and my bro\\'s phone number is 123-456-7891'\n",
    "\n",
    "for i in range(len(message)):\n",
    "    chunk = message[i:i+12]\n",
    "    if isPhoneNumber(chunk):\n",
    "        print('Phone Number Found : ' + chunk)\n",
    "print(\"Done\")"
   ]
  },
  {
   "cell_type": "markdown",
   "metadata": {},
   "source": [
    "# Finding Date from text without using RegEx."
   ]
  },
  {
   "cell_type": "code",
   "execution_count": 16,
   "metadata": {},
   "outputs": [],
   "source": [
    "def isBirthDate(text):\n",
    "    if len(text) != 10:\n",
    "        return False\n",
    "    for i in range(0, 2):\n",
    "        if not text[i].isdecimal():\n",
    "            return False\n",
    "    if text[2] != \"-\":\n",
    "        return False\n",
    "    for i in range(3, 5):\n",
    "        if not text[i].isdecimal():\n",
    "            return False\n",
    "    if text[5] != \"-\":\n",
    "        return False\n",
    "    for i in range(6, 10):\n",
    "        if not text[i].isdecimal():\n",
    "            return False\n",
    "    return True"
   ]
  },
  {
   "cell_type": "code",
   "execution_count": 17,
   "metadata": {},
   "outputs": [
    {
     "name": "stdout",
     "output_type": "stream",
     "text": [
      "Date Found : 18-11-2001\n",
      "Date Found : 12-11-2020\n",
      "Mission Accomplished.\n"
     ]
    }
   ],
   "source": [
    "message = 'Oh, My birthdate is 18-11-2001. Today is 12-11-2020'\n",
    "\n",
    "for i in range(len(message)):\n",
    "    chunk = message[i:i+10]    \n",
    "    if isBirthDate(chunk):\n",
    "        print(\"Date Found : \" + chunk)\n",
    "print(\"Mission Accomplished.\")"
   ]
  },
  {
   "cell_type": "code",
   "execution_count": null,
   "metadata": {},
   "outputs": [],
   "source": []
  }
 ],
 "metadata": {
  "kernelspec": {
   "display_name": "Python 3",
   "language": "python",
   "name": "python3"
  },
  "language_info": {
   "codemirror_mode": {
    "name": "ipython",
    "version": 3
   },
   "file_extension": ".py",
   "mimetype": "text/x-python",
   "name": "python",
   "nbconvert_exporter": "python",
   "pygments_lexer": "ipython3",
   "version": "3.8.5"
  }
 },
 "nbformat": 4,
 "nbformat_minor": 4
}
